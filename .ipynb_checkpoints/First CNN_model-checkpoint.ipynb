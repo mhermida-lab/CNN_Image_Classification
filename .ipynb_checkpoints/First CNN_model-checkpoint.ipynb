{
 "cells": [
  {
   "cell_type": "code",
   "execution_count": 128,
   "metadata": {},
   "outputs": [],
   "source": [
    "import warnings\n",
    "warnings.filterwarnings('ignore')\n",
    "import matplotlib as plt\n",
    "import pandas as pd\n",
    "import numpy as np\n",
    "%matplotlib inline\n",
    "\n",
    "\n",
    "from keras.models import Sequential\n",
    "from keras.layers import Conv2D, Flatten, Dense, Activation, MaxPooling2D, Dropout\n",
    "from sklearn.preprocessing import StandardScaler\n",
    "from keras.utils import to_categorical\n",
    "from sklearn.metrics import accuracy_score\n",
    "\n"
   ]
  },
  {
   "cell_type": "code",
   "execution_count": 129,
   "metadata": {},
   "outputs": [],
   "source": [
    "(X_train, y_train) = pickle.load(open('./train.pkl', 'rb'))\n",
    "(X_test, y_test) = pickle.load(open('./test.pkl', 'rb'))\n",
    "(X_val, y_val) = pickle.load(open('./val.pkl', 'rb'))"
   ]
  },
  {
   "cell_type": "code",
   "execution_count": 130,
   "metadata": {},
   "outputs": [],
   "source": [
    "y_train = to_categorical(y_train)\n",
    "y_test = to_categorical(y_test)\n",
    "y_val = to_categorical(y_val)"
   ]
  },
  {
   "cell_type": "code",
   "execution_count": 131,
   "metadata": {},
   "outputs": [],
   "source": [
    "cnn = Sequential()\n",
    "cnn.add(Conv2D(filters=32, \n",
    "               kernel_size=(8,8), \n",
    "               strides=(4,4),\n",
    "               padding='same',\n",
    "               input_shape=(32,32,3),\n",
    "               data_format='channels_last'))\n",
    "cnn.add(Activation('relu'))\n",
    "cnn.add(MaxPooling2D(pool_size=(2,2),\n",
    "                     strides=2))\n",
    "cnn.add(Conv2D(filters=196,\n",
    "               kernel_size=(4,4),\n",
    "               strides=(2,2),\n",
    "               padding='same'))\n",
    "cnn.add(Activation('relu'))\n",
    "cnn.add(MaxPooling2D(pool_size=(2,2),\n",
    "                     strides=2))\n",
    "cnn.add(Flatten())        \n",
    "cnn.add(Dense(64))\n",
    "cnn.add(Activation('relu'))\n",
    "cnn.add(Dropout(0.25))\n",
    "cnn.add(Dense(10, activation='softmax'))\n",
    "cnn.compile(loss='categorical_crossentropy', optimizer='adam', metrics=['accuracy'])"
   ]
  },
  {
   "cell_type": "code",
   "execution_count": 133,
   "metadata": {},
   "outputs": [
    {
     "name": "stdout",
     "output_type": "stream",
     "text": [
      "Train on 50000 samples, validate on 5000 samples\n",
      "Epoch 1/50\n",
      "50000/50000 [==============================] - 22s 443us/step - loss: 1.8848 - acc: 0.3111 - val_loss: 1.8135 - val_acc: 0.3492\n",
      "Epoch 2/50\n",
      "50000/50000 [==============================] - 22s 433us/step - loss: 1.7783 - acc: 0.3516 - val_loss: 1.7031 - val_acc: 0.3738\n",
      "Epoch 3/50\n",
      "50000/50000 [==============================] - 21s 417us/step - loss: 1.6974 - acc: 0.3825 - val_loss: 1.6088 - val_acc: 0.4132\n",
      "Epoch 4/50\n",
      "50000/50000 [==============================] - 21s 421us/step - loss: 1.6354 - acc: 0.4041 - val_loss: 1.5697 - val_acc: 0.4336\n",
      "Epoch 5/50\n",
      "50000/50000 [==============================] - 21s 418us/step - loss: 1.5972 - acc: 0.4214 - val_loss: 1.5741 - val_acc: 0.4322\n",
      "Epoch 6/50\n",
      "50000/50000 [==============================] - 22s 442us/step - loss: 1.5535 - acc: 0.4351 - val_loss: 1.5131 - val_acc: 0.4558\n",
      "Epoch 7/50\n",
      "50000/50000 [==============================] - 25s 496us/step - loss: 1.5037 - acc: 0.4531 - val_loss: 1.4795 - val_acc: 0.4738\n",
      "Epoch 8/50\n",
      "50000/50000 [==============================] - 26s 522us/step - loss: 1.4593 - acc: 0.4687 - val_loss: 1.4973 - val_acc: 0.4674\n",
      "Epoch 9/50\n",
      "50000/50000 [==============================] - 26s 525us/step - loss: 1.4359 - acc: 0.4785 - val_loss: 1.4881 - val_acc: 0.4682\n",
      "Epoch 10/50\n",
      "50000/50000 [==============================] - 26s 524us/step - loss: 1.3987 - acc: 0.4906 - val_loss: 1.4566 - val_acc: 0.4800\n",
      "Epoch 11/50\n",
      "50000/50000 [==============================] - 26s 525us/step - loss: 1.3615 - acc: 0.5037 - val_loss: 1.4394 - val_acc: 0.4814\n",
      "Epoch 12/50\n",
      "50000/50000 [==============================] - 26s 529us/step - loss: 1.3251 - acc: 0.5161 - val_loss: 1.4573 - val_acc: 0.4860\n",
      "Epoch 13/50\n",
      "50000/50000 [==============================] - 26s 526us/step - loss: 1.2944 - acc: 0.5298 - val_loss: 1.4223 - val_acc: 0.4964\n",
      "Epoch 14/50\n",
      "50000/50000 [==============================] - 26s 526us/step - loss: 1.2685 - acc: 0.5369 - val_loss: 1.4717 - val_acc: 0.4866\n",
      "Epoch 15/50\n",
      "50000/50000 [==============================] - 26s 529us/step - loss: 1.2420 - acc: 0.5462 - val_loss: 1.4448 - val_acc: 0.4978\n",
      "Epoch 16/50\n",
      "50000/50000 [==============================] - 26s 523us/step - loss: 1.2088 - acc: 0.5569 - val_loss: 1.4500 - val_acc: 0.4964\n",
      "Epoch 17/50\n",
      "50000/50000 [==============================] - 27s 540us/step - loss: 1.1911 - acc: 0.5655 - val_loss: 1.4557 - val_acc: 0.5084\n",
      "Epoch 18/50\n",
      "50000/50000 [==============================] - 26s 528us/step - loss: 1.1674 - acc: 0.5741 - val_loss: 1.5050 - val_acc: 0.4966\n",
      "Epoch 19/50\n",
      "50000/50000 [==============================] - 26s 522us/step - loss: 1.1547 - acc: 0.5759 - val_loss: 1.4904 - val_acc: 0.4992\n",
      "Epoch 20/50\n",
      "50000/50000 [==============================] - 26s 525us/step - loss: 1.1245 - acc: 0.5878 - val_loss: 1.5137 - val_acc: 0.5002\n",
      "Epoch 21/50\n",
      "50000/50000 [==============================] - 26s 526us/step - loss: 1.0973 - acc: 0.5958 - val_loss: 1.5160 - val_acc: 0.5024\n",
      "Epoch 22/50\n",
      "50000/50000 [==============================] - 26s 521us/step - loss: 1.0827 - acc: 0.5977 - val_loss: 1.4889 - val_acc: 0.4954\n",
      "Epoch 23/50\n",
      "50000/50000 [==============================] - 26s 527us/step - loss: 1.0617 - acc: 0.6084 - val_loss: 1.5528 - val_acc: 0.4950\n",
      "Epoch 24/50\n",
      "50000/50000 [==============================] - 26s 522us/step - loss: 1.0487 - acc: 0.6129 - val_loss: 1.5390 - val_acc: 0.5072\n",
      "Epoch 25/50\n",
      "50000/50000 [==============================] - 27s 533us/step - loss: 1.0289 - acc: 0.6184 - val_loss: 1.6051 - val_acc: 0.5040\n",
      "Epoch 26/50\n",
      "50000/50000 [==============================] - 27s 532us/step - loss: 1.0224 - acc: 0.6199 - val_loss: 1.5652 - val_acc: 0.5074\n",
      "Epoch 27/50\n",
      "50000/50000 [==============================] - 26s 522us/step - loss: 1.0004 - acc: 0.6304 - val_loss: 1.5826 - val_acc: 0.5096\n",
      "Epoch 28/50\n",
      "50000/50000 [==============================] - 26s 522us/step - loss: 0.9827 - acc: 0.6339 - val_loss: 1.6120 - val_acc: 0.5062\n",
      "Epoch 29/50\n",
      "50000/50000 [==============================] - 26s 522us/step - loss: 0.9659 - acc: 0.6391 - val_loss: 1.6270 - val_acc: 0.5098\n",
      "Epoch 30/50\n",
      "50000/50000 [==============================] - 26s 520us/step - loss: 0.9504 - acc: 0.6487 - val_loss: 1.6710 - val_acc: 0.4946\n",
      "Epoch 31/50\n",
      "50000/50000 [==============================] - 26s 524us/step - loss: 0.9453 - acc: 0.6475 - val_loss: 1.6796 - val_acc: 0.5004\n",
      "Epoch 32/50\n",
      "50000/50000 [==============================] - 26s 525us/step - loss: 0.9248 - acc: 0.6539 - val_loss: 1.6638 - val_acc: 0.5082\n",
      "Epoch 33/50\n",
      "50000/50000 [==============================] - 26s 523us/step - loss: 0.9138 - acc: 0.6603 - val_loss: 1.7112 - val_acc: 0.5000\n",
      "Epoch 34/50\n",
      "50000/50000 [==============================] - 26s 523us/step - loss: 0.9021 - acc: 0.6627 - val_loss: 1.7181 - val_acc: 0.4998\n",
      "Epoch 35/50\n",
      "50000/50000 [==============================] - 27s 534us/step - loss: 0.8939 - acc: 0.6666 - val_loss: 1.7322 - val_acc: 0.5088\n",
      "Epoch 36/50\n",
      "50000/50000 [==============================] - 26s 527us/step - loss: 0.8937 - acc: 0.6666 - val_loss: 1.7201 - val_acc: 0.5078\n",
      "Epoch 37/50\n",
      "50000/50000 [==============================] - 27s 531us/step - loss: 0.8800 - acc: 0.6693 - val_loss: 1.7886 - val_acc: 0.5084\n",
      "Epoch 38/50\n",
      "50000/50000 [==============================] - 26s 527us/step - loss: 0.8664 - acc: 0.6761 - val_loss: 1.7804 - val_acc: 0.5036\n",
      "Epoch 39/50\n",
      "50000/50000 [==============================] - 27s 531us/step - loss: 0.8433 - acc: 0.6834 - val_loss: 1.8103 - val_acc: 0.5052\n",
      "Epoch 40/50\n",
      "50000/50000 [==============================] - 26s 529us/step - loss: 0.8389 - acc: 0.6859 - val_loss: 1.8460 - val_acc: 0.5054\n",
      "Epoch 41/50\n",
      "50000/50000 [==============================] - 26s 528us/step - loss: 0.8239 - acc: 0.6906 - val_loss: 1.8098 - val_acc: 0.5078\n",
      "Epoch 42/50\n",
      "50000/50000 [==============================] - 26s 526us/step - loss: 0.8205 - acc: 0.6906 - val_loss: 1.8673 - val_acc: 0.5046\n",
      "Epoch 43/50\n",
      "50000/50000 [==============================] - 26s 527us/step - loss: 0.8096 - acc: 0.6954 - val_loss: 1.8893 - val_acc: 0.5018\n",
      "Epoch 44/50\n",
      "50000/50000 [==============================] - 26s 522us/step - loss: 0.7983 - acc: 0.6972 - val_loss: 1.8926 - val_acc: 0.5084\n",
      "Epoch 45/50\n",
      "50000/50000 [==============================] - 26s 527us/step - loss: 0.7914 - acc: 0.7022 - val_loss: 1.9149 - val_acc: 0.4980\n",
      "Epoch 46/50\n",
      "50000/50000 [==============================] - 26s 528us/step - loss: 0.7789 - acc: 0.7057 - val_loss: 1.9886 - val_acc: 0.5018\n",
      "Epoch 47/50\n",
      "50000/50000 [==============================] - 26s 527us/step - loss: 0.7725 - acc: 0.7082 - val_loss: 1.9755 - val_acc: 0.5102\n",
      "Epoch 48/50\n",
      "50000/50000 [==============================] - 27s 530us/step - loss: 0.7755 - acc: 0.7072 - val_loss: 2.0390 - val_acc: 0.4934\n",
      "Epoch 49/50\n",
      "50000/50000 [==============================] - 27s 534us/step - loss: 0.7608 - acc: 0.7123 - val_loss: 1.9931 - val_acc: 0.5048\n",
      "Epoch 50/50\n",
      "50000/50000 [==============================] - 26s 527us/step - loss: 0.7566 - acc: 0.7144 - val_loss: 2.1010 - val_acc: 0.5038\n"
     ]
    },
    {
     "data": {
      "text/plain": [
       "<keras.callbacks.History at 0x230006829b0>"
      ]
     },
     "execution_count": 133,
     "metadata": {},
     "output_type": "execute_result"
    }
   ],
   "source": [
    "cnn.fit(X_train, y_train, validation_data=(X_test, y_test), epochs=50, batch_size=256)"
   ]
  },
  {
   "cell_type": "code",
   "execution_count": 134,
   "metadata": {},
   "outputs": [],
   "source": [
    "test_pred = cnn.predict(X_test)\n",
    "val_pred = cnn.predict(X_val)"
   ]
  },
  {
   "cell_type": "code",
   "execution_count": 135,
   "metadata": {},
   "outputs": [],
   "source": [
    "test_pred = [np.argmax(test_pred[i]) for i in range(len(test_pred))]\n",
    "val_pred = [np.argmax(val_pred[i]) for i in range(len(val_pred))]\n",
    "y_test = [np.argmax(y_test[i]) for i in range(len(y_test))]\n",
    "y_val = [np.argmax(y_val[i]) for i in range(len(y_val))]"
   ]
  },
  {
   "cell_type": "code",
   "execution_count": 136,
   "metadata": {},
   "outputs": [
    {
     "name": "stdout",
     "output_type": "stream",
     "text": [
      "Test score:0.5038, validation score:0.4864\n"
     ]
    }
   ],
   "source": [
    "test_score = accuracy_score(y_test, test_pred )\n",
    "val_score = accuracy_score(y_val, val_pred)\n",
    "print(\"Test score:{}, validation score:{}\".format(test_score,val_score))"
   ]
  },
  {
   "cell_type": "code",
   "execution_count": null,
   "metadata": {},
   "outputs": [],
   "source": []
  }
 ],
 "metadata": {
  "kernelspec": {
   "display_name": "Python 3",
   "language": "python",
   "name": "python3"
  },
  "language_info": {
   "codemirror_mode": {
    "name": "ipython",
    "version": 3
   },
   "file_extension": ".py",
   "mimetype": "text/x-python",
   "name": "python",
   "nbconvert_exporter": "python",
   "pygments_lexer": "ipython3",
   "version": "3.7.3"
  }
 },
 "nbformat": 4,
 "nbformat_minor": 2
}
